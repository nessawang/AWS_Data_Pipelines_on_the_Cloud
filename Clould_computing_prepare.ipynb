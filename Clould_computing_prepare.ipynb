{
 "cells": [
  {
   "attachments": {},
   "cell_type": "markdown",
   "metadata": {},
   "source": [
    "# <span style=\"color:#6FFFE9\">Preparing for AWS</span> "
   ]
  },
  {
   "cell_type": "markdown",
   "metadata": {},
   "source": [
    "## <span style=\"color:#ffadad\">Import libraries</span>"
   ]
  },
  {
   "cell_type": "code",
   "execution_count": 1,
   "metadata": {},
   "outputs": [],
   "source": [
    "from bs4 import BeautifulSoup\n",
    "import requests\n",
    "import pandas as pd\n",
    "import sqlalchemy\n",
    "from datetime import datetime, date, timedelta\n",
    "import api_pw\n",
    "import re\n"
   ]
  },
  {
   "cell_type": "markdown",
   "metadata": {},
   "source": [
    "## <span style=\"color:#ffadad\">Get City Data </span>"
   ]
  },
  {
   "cell_type": "code",
   "execution_count": 2,
   "metadata": {},
   "outputs": [
    {
     "data": {
      "text/html": [
       "<div>\n",
       "<style scoped>\n",
       "    .dataframe tbody tr th:only-of-type {\n",
       "        vertical-align: middle;\n",
       "    }\n",
       "\n",
       "    .dataframe tbody tr th {\n",
       "        vertical-align: top;\n",
       "    }\n",
       "\n",
       "    .dataframe thead th {\n",
       "        text-align: right;\n",
       "    }\n",
       "</style>\n",
       "<table border=\"1\" class=\"dataframe\">\n",
       "  <thead>\n",
       "    <tr style=\"text-align: right;\">\n",
       "      <th></th>\n",
       "      <th>city</th>\n",
       "      <th>country</th>\n",
       "      <th>population</th>\n",
       "      <th>latitude</th>\n",
       "      <th>longitude</th>\n",
       "    </tr>\n",
       "  </thead>\n",
       "  <tbody>\n",
       "    <tr>\n",
       "      <th>0</th>\n",
       "      <td>Berlin</td>\n",
       "      <td>Germany</td>\n",
       "      <td>3677472</td>\n",
       "      <td>52.3112</td>\n",
       "      <td>13.2418</td>\n",
       "    </tr>\n",
       "    <tr>\n",
       "      <th>1</th>\n",
       "      <td>Heidelberg</td>\n",
       "      <td>Germany</td>\n",
       "      <td>159245</td>\n",
       "      <td>49.2500</td>\n",
       "      <td>8.4300</td>\n",
       "    </tr>\n",
       "    <tr>\n",
       "      <th>2</th>\n",
       "      <td>Cologne</td>\n",
       "      <td>Germany</td>\n",
       "      <td>1073096</td>\n",
       "      <td>50.5611</td>\n",
       "      <td>6.5710</td>\n",
       "    </tr>\n",
       "  </tbody>\n",
       "</table>\n",
       "</div>"
      ],
      "text/plain": [
       "         city  country  population  latitude  longitude\n",
       "0      Berlin  Germany     3677472   52.3112    13.2418\n",
       "1  Heidelberg  Germany      159245   49.2500     8.4300\n",
       "2     Cologne  Germany     1073096   50.5611     6.5710"
      ]
     },
     "execution_count": 2,
     "metadata": {},
     "output_type": "execute_result"
    }
   ],
   "source": [
    "\n",
    "cities = ['Berlin', 'Heidelberg', 'Cologne']\n",
    "\n",
    "list_for_df = []\n",
    "\n",
    "for city in cities:\n",
    "\n",
    "    url = f'https://en.wikipedia.org/wiki/{city}'\n",
    "    r = requests.get(url)\n",
    "    soup = BeautifulSoup(r.content, 'html.parser')\n",
    "\n",
    "    response_dict = {}\n",
    "\n",
    "    response_dict['city'] = soup.select(\".firstHeading\")[0].get_text()\n",
    "    response_dict['country'] = soup.select(\".infobox-data\")[0].get_text()\n",
    "   \n",
    "    if soup.select_one('th.infobox-header:-soup-contains(\"Population\")'):\n",
    "        response_dict['population'] = soup.select_one('th.infobox-header:-soup-contains(\"Population\")').parent.find_next_sibling().find(text=re.compile(r'\\d+'))\n",
    "    \n",
    "    response_dict['latitude'] = soup.select(\".latitude\")[0].get_text()\n",
    "    response_dict['longitude'] = soup.select(\".longitude\")[0].get_text()\n",
    "    \n",
    "    list_for_df.append(response_dict)\n",
    "\n",
    "cities_df = pd.DataFrame(list_for_df)\n",
    "\n",
    "cities_df['latitude'] = cities_df['latitude'].str.split('″').str[0].str.replace('°', '.', regex=False).str.replace('′', '', regex=False).str.replace('N', '00', regex=False)\n",
    "\n",
    "cities_df['longitude'] = cities_df['longitude'].str.split('″').str[0].str.replace('°', '.', regex=False).str.replace('′', '', regex=False).str.replace('E', '00', regex=False)\n",
    "\n",
    "#cities_df.iloc[3,1] = cities_df.iloc[3,1][-7:-1]\n",
    "\n",
    "cities_df['population'] = cities_df['population'].str.replace(',', '', regex=False)\n",
    "cities_df['population'] = cities_df['population'].astype(int)\n",
    "cities_df['latitude'] = cities_df['latitude'].astype(float)\n",
    "cities_df['longitude'] = cities_df['longitude'].astype(float)\n",
    "cities_df"
   ]
  },
  {
   "cell_type": "code",
   "execution_count": 3,
   "metadata": {},
   "outputs": [],
   "source": [
    "#host = 'wbs-aws-db.xxxxxxxxxxxx'\n",
    "schema = 'gans_aws' \n",
    "user = 'admin'\n",
    "password = api_pw.sql_pw  # save in the api_pw.py file\n",
    "port = 3306\n",
    "connection_details = f'mysql+pymysql://{user}:{password}@{host}:{port}/{schema}' \n",
    "\n"
   ]
  },
  {
   "cell_type": "code",
   "execution_count": 4,
   "metadata": {},
   "outputs": [
    {
     "data": {
      "text/plain": [
       "3"
      ]
     },
     "execution_count": 4,
     "metadata": {},
     "output_type": "execute_result"
    }
   ],
   "source": [
    "cities_df.to_sql('city', if_exists='append', con=connection_details, index=False) "
   ]
  },
  {
   "attachments": {},
   "cell_type": "markdown",
   "metadata": {},
   "source": [
    "## <span style=\"color:#ffadad\">Preparing Lambda Function in AWS </span>"
   ]
  },
  {
   "cell_type": "code",
   "execution_count": null,
   "metadata": {},
   "outputs": [],
   "source": [
    "import json\n",
    "import pandas as pd\n",
    "import sqlalchemy\n",
    "import requests\n",
    "import sqlalchemy\n",
    "from datetime import datetime, date, timedelta\n",
    "from pytz import timezone\n",
    "import api_pw\n",
    "\n",
    "def get_weather(city_df):\n",
    "\n",
    "    api_key = api_pw.openweather_api\n",
    "\n",
    "    weather_cities_dict = {\"city_id\"         : [],\n",
    "                           \"Forecast_time\"   : [],\n",
    "                           \"Weather_desc\"    : [],\n",
    "                           \"Temperature\"     : [],\n",
    "                           \"Rain_probability\": [],\n",
    "                           \"Humidity\"        : []\n",
    "                          }\n",
    "\n",
    "    for i, city in enumerate(city_df['city_id']):\n",
    "        weather_cities = requests.get(f\"http://api.openweathermap.org/data/2.5/forecast?lat={city_df.iloc[i]['latitude']}&lon={city_df.iloc[i]['longitude']}&appid={api_key}&units=metric\").json()\n",
    "\n",
    "        for j in weather_cities[\"list\"]:\n",
    "            weather_cities_dict[\"city_id\"].append(city)\n",
    "            weather_cities_dict['Forecast_time'].append(j['dt_txt'])\n",
    "            weather_cities_dict['Weather_desc'].append(j['weather'][0]['description'])\n",
    "            weather_cities_dict['Temperature'].append(j['main']['temp'])\n",
    "            weather_cities_dict['Humidity'].append(j['main']['humidity'])\n",
    "\n",
    "            try:\n",
    "                weather_cities_dict['Rain_probability'].append(j['rain']['3h'])\n",
    "            except:\n",
    "                weather_cities_dict['Rain_probability'].append('0')\n",
    "\n",
    "    weather_df = pd.DataFrame(weather_cities_dict)\n",
    "    return weather_df\n",
    "\n",
    "\n",
    "def tomorrows_flight_arrivals(icao_df):\n",
    "\n",
    "  today = datetime.now().astimezone(timezone('Europe/Berlin')).date()\n",
    "  tomorrow = (today + timedelta(days=1))\n",
    "\n",
    "  list_for_df = [] \n",
    "\n",
    "  for i, icao in enumerate(icao_df[\"icao\"]):\n",
    "    times = [[\"00:00\",\"11:59\"],[\"12:00\",\"23:59\"]] \n",
    "\n",
    "    for time in times: \n",
    "      url = f\"https://aerodatabox.p.rapidapi.com/flights/airports/icao/{icao}/{tomorrow}T{time[0]}/{tomorrow}T{time[1]}\"\n",
    "      querystring = {\"withLeg\":\"true\",\"direction\":\"Arrival\",\"withCancelled\":\"false\",\"withCodeshared\":\"true\",\"withCargo\":\"false\",\"withPrivate\":\"false\"}\n",
    "      headers = {\n",
    "          'x-rapidapi-host': \"aerodatabox.p.rapidapi.com\",\n",
    "          'x-rapidapi-key': api_pw.flight_api\n",
    "          }\n",
    "      response = requests.request(\"GET\", url, headers=headers, params=querystring)\n",
    "      flights_json = response.json()\n",
    "\n",
    "      for flight in flights_json['arrivals']:\n",
    "        flights_dict = {}\n",
    "        flights_dict['arrival_icao'] = icao\n",
    "        flights_dict['flight_number'] = flight.get('number', None)\n",
    "        flights_dict['airline'] = flight['airline'].get('name', None)\n",
    "        flights_dict['arrival_terminal'] = flight['arrival'].get('terminal', None)\n",
    "        flights_dict['arrival_time_local'] = flight['arrival'].get('scheduledTimeLocal', None)\n",
    "        flights_dict['departure_icao'] = flight['departure']['airport'].get('icao', None)\n",
    "        flights_dict['departure_city'] = flight['departure']['airport'].get('name', None)\n",
    "        flights_dict['departure_time_local'] = flight['departure'].get('scheduledTimeLocal', None)        \n",
    "        flights_dict['data_retrieved_on'] = datetime.now().astimezone(timezone('Europe/Berlin')).date()\n",
    "        list_for_df.append(flights_dict)\n",
    "\n",
    "  flight_df = pd.DataFrame(list_for_df)\n",
    "  flight_df[\"arrival_time_local\"] = pd.to_datetime(flight_df[\"arrival_time_local\"])\n",
    "  flight_df[\"departure_time_local\"] = pd.to_datetime(flight_df[\"departure_time_local\"],utc=True)\n",
    "  flight_df[\"data_retrieved_on\"] = pd.to_datetime(flight_df[\"data_retrieved_on\"])\n",
    "  \n",
    "  return flight_df\n",
    "\n",
    "\n",
    "def lambda_handler(event, context):\n",
    "    host = 'wbs-project-db.c90scngdiihl.us-east-1.rds.amazonaws.com'\n",
    "    schema = 'gans_aws' \n",
    "    user = 'admin'\n",
    "    password = api_pw.sql_pw\n",
    "    port = 3306\n",
    "    connection_details = f'mysql+pymysql://{user}:{password}@{host}:{port}/{schema}' \n",
    "    \n",
    "    city_df = pd.read_sql('city',con=connection_details)\n",
    "    \n",
    "    weather_df = get_weather(city_df)\n",
    "    weather_df.to_sql('weather',con=connection_details,if_exists='append',index=False)\n",
    "\n",
    "    icao_df = pd.read_sql('icao',con=connection_details)\n",
    "\n",
    "    flight_df = tomorrows_flight_arrivals([\"EDDB\"])\n",
    "    flight_df.to_sql('flight',con=connection_details, if_exists='append', index=False) \n",
    "                       \n",
    "              \n",
    "  \n",
    "    # TODO implement\n",
    "    return {\n",
    "        'statusCode': 200,\n",
    "        'body': json.dumps('Hello from Lambda!')\n",
    "    }"
   ]
  }
 ],
 "metadata": {
  "kernelspec": {
   "display_name": "Demo",
   "language": "python",
   "name": "python3"
  },
  "language_info": {
   "codemirror_mode": {
    "name": "ipython",
    "version": 3
   },
   "file_extension": ".py",
   "mimetype": "text/x-python",
   "name": "python",
   "nbconvert_exporter": "python",
   "pygments_lexer": "ipython3",
   "version": "3.9.15"
  },
  "orig_nbformat": 4
 },
 "nbformat": 4,
 "nbformat_minor": 2
}
