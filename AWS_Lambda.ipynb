{
  "cells": [
    {
      "cell_type": "code",
      "execution_count": null,
      "metadata": {
        "id": "UHewbt3adsna"
      },
      "outputs": [],
      "source": [
        "import json\n",
        "import pandas as pd\n",
        "import sqlalchemy\n",
        "import requests\n",
        "\n",
        "def get_weather(city_df):\n",
        "    API_key = 'USE YOUR API KEY HERE'\n",
        "    weather_dict = {'city_id':[],\n",
        "                'time':[],\n",
        "                'temp':[],\n",
        "                'wind_speed':[]}\n",
        "    for i, city in enumerate(city_df['city_id']):\n",
        "        url = f\"http://api.openweathermap.org/data/2.5/forecast?lat={city_df.iloc[i]['lat']}&lon={city_df.iloc[i]['long']}&appid={API_key}&units=metric\"\n",
        "        response = requests.get(url)\n",
        "        weather_json = response.json()\n",
        "        for time in weather_json['list'][:9]:\n",
        "            weather_dict['city_id'].append(city)\n",
        "            weather_dict['time'].append(time['dt_txt'])\n",
        "            weather_dict['temp'].append(time['main']['temp'])\n",
        "            weather_dict['wind_speed'].append(time['wind']['speed'])\n",
        "            \n",
        "    weather_df = pd.DataFrame(weather_dict)\n",
        "    return weather_df\n",
        "\n",
        "def lambda_handler(event, context):\n",
        "    host = 'database-XXXXXXXXXXXXXXXXX'\n",
        "    schema = 'gans_aws' # The name of your database (schema) might be different\n",
        "    user = 'admin'\n",
        "    password = 'USE YOUR PASSWORD HERE'\n",
        "    port = 3306\n",
        "    con = f'mysql+pymysql://{user}:{password}@{host}:{port}/{schema}' \n",
        "    city_df = pd.read_sql('cities',con=con)\n",
        "    \n",
        "    weather_df = get_weather(city_df)\n",
        "    weather_df.to_sql('weather',con=con,if_exists='append',index=False)\n",
        "  \n",
        "    # TODO implement\n",
        "    return {\n",
        "        'statusCode': 200,\n",
        "        'body': json.dumps('Hello from Lambda!')\n",
        "    }"
      ]
    }
  ],
  "metadata": {
    "colab": {
      "provenance": []
    },
    "kernelspec": {
      "display_name": "Python 3",
      "name": "python3"
    },
    "language_info": {
      "name": "python"
    }
  },
  "nbformat": 4,
  "nbformat_minor": 0
}
